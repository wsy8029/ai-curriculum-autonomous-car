{
 "cells": [
  {
   "cell_type": "markdown",
   "metadata": {},
   "source": [
    "<img src=\"./image/Title.png\">"
   ]
  },
  {
   "cell_type": "markdown",
   "metadata": {},
   "source": [
    "### 패키지 import 및 bundle 객체 선언"
   ]
  },
  {
   "cell_type": "code",
   "execution_count": null,
   "metadata": {
    "scrolled": true
   },
   "outputs": [],
   "source": [
    "import cv2\n",
    "import numpy as np\n",
    "import modi\n",
    "import time"
   ]
  },
  {
   "cell_type": "code",
   "execution_count": null,
   "metadata": {},
   "outputs": [],
   "source": [
    "bundle = modi.MODI(ai_mode=True)\n",
    "ai_cam = bundle.ai_cameras[0]\n",
    "motor = bundle.motors[0]\n",
    "print('bundle finish')"
   ]
  },
  {
   "cell_type": "markdown",
   "metadata": {},
   "source": [
    "### 선 이미지 출력 함수"
   ]
  },
  {
   "cell_type": "code",
   "execution_count": null,
   "metadata": {},
   "outputs": [],
   "source": [
    "def t_display_lines(image, lines):\n",
    "    line_image = np.zeros_like(image)\n",
    "    if lines is not None:\n",
    "        for line in lines:\n",
    "            x1, y1, x2, y2 = line.reshape(4)\n",
    "            cv2.line(line_image, (x1, y1), (x2, y2), (255, 0, 0), 10)\n",
    "    return line_image"
   ]
  },
  {
   "cell_type": "markdown",
   "metadata": {},
   "source": [
    "### Canny function\n",
    "##### 윤곽선 추출"
   ]
  },
  {
   "cell_type": "code",
   "execution_count": null,
   "metadata": {},
   "outputs": [],
   "source": [
    "# Canny 이미지 처리함수\n",
    "def canny(image):\n",
    "    gray = cv2.cvtColor(image, cv2.COLOR_RGB2GRAY)\n",
    "    blur = cv2.GaussianBlur(gray, (5, 5), 0)\n",
    "    canny = cv2.Canny(blur, 50, 150)\n",
    "    return canny"
   ]
  },
  {
   "cell_type": "code",
   "execution_count": null,
   "metadata": {},
   "outputs": [],
   "source": [
    "ai_cam.set_window()\n",
    "ai_cam.set_frame_height(640)\n",
    "ai_cam.set_frame_weight(480)\n",
    "while True:\n",
    "    frame = ai_cam.read()\n",
    "    canny_image = canny(frame)\n",
    "    ai_cam.show(canny_image)"
   ]
  },
  {
   "cell_type": "markdown",
   "metadata": {},
   "source": [
    "### ROI (Region Of Interest)\n",
    "##### 영역 설정"
   ]
  },
  {
   "cell_type": "code",
   "execution_count": null,
   "metadata": {},
   "outputs": [],
   "source": [
    "# Roi 설정 함수 (카메라 화각이 좁은 관계로 화면 전체를 잡은 상태)\n",
    "def region_of_interest(image):\n",
    "    height = image.shape[0]\n",
    "    polygons = np.array([[( 0 , height), (320, height),(320,0) , (0, 0)]])\n",
    "    mask = np.zeros_like(image)\n",
    "    cv2.fillPoly(mask, polygons, 255)\n",
    "    masked_image = cv2.bitwise_and(image, mask)\n",
    "    return masked_image"
   ]
  },
  {
   "cell_type": "code",
   "execution_count": null,
   "metadata": {},
   "outputs": [],
   "source": [
    "ai_cam.set_window()\n",
    "while True:\n",
    "    frame = ai_cam.read()\n",
    "    canny_image = canny(frame)\n",
    "    cropped_image = region_of_interest(canny_image)\n",
    "    ai_cam.show(cropped_image)"
   ]
  },
  {
   "cell_type": "markdown",
   "metadata": {},
   "source": [
    "### Hough Lines\n",
    "##### 직선 추출"
   ]
  },
  {
   "cell_type": "code",
   "execution_count": null,
   "metadata": {
    "scrolled": true
   },
   "outputs": [],
   "source": [
    "ai_cam.set_window()\n",
    "while True:\n",
    "    frame = ai_cam.read()\n",
    "    canny_image = canny(frame)\n",
    "    cropped_image = region_of_interest(canny_image)\n",
    "    \n",
    "    lines = cv2.HoughLinesP(cropped_image, 1 , np.pi/180, 100, np.array([]), minLineLength=10, maxLineGap=1)\n",
    "    frame_lines = t_display_lines(frame, lines)\n",
    "    \n",
    "    combo_image = cv2.addWeighted(frame, 0.8, frame_lines, 1, 1)\n",
    "    \n",
    "    ai_cam.show(combo_image)"
   ]
  },
  {
   "cell_type": "markdown",
   "metadata": {},
   "source": [
    "### Average Slope\n",
    "##### 기울기 처리"
   ]
  },
  {
   "cell_type": "code",
   "execution_count": null,
   "metadata": {},
   "outputs": [],
   "source": [
    "# 선 좌표 처리함수\n",
    "def make_coordinates(image, line_parameters):\n",
    "    slope, intercept = line_parameters\n",
    "    y1 = image.shape[0]\n",
    "    y2 = int(y1*(2/5))\n",
    "    \n",
    "    x1 = int((y1 - intercept)/slope)\n",
    "    x2 = int((y2 - intercept)/slope)\n",
    "    return np.array([x1, y1, x2, y2])\n",
    "\n",
    "# 선 기울기 처리함수\n",
    "def average_slope_intercept(image, lines):\n",
    "    left_fit = []\n",
    "    right_fit = []\n",
    "    for line in lines:\n",
    "        x1, y1, x2, y2 = line.reshape(4)\n",
    "        parameters = np.polyfit((x1, x2), (y1, y2), 1)\n",
    "        slope = parameters[0]\n",
    "        intercept = parameters[1]\n",
    "        if slope < -0.5:\n",
    "            left_fit.append((slope, intercept))\n",
    "        elif 0.5 < slope:\n",
    "            right_fit.append((slope, intercept))\n",
    "    if (len(left_fit) != 0):\n",
    "        left_fit_average = np.average(left_fit, axis=0)\n",
    "    else:\n",
    "        left_fit_average = ((-5, 240))\n",
    "    if (len(right_fit) != 0):\n",
    "        right_fit_average = np.average(right_fit, axis=0)\n",
    "    else:\n",
    "        right_fit_average = ((5, -1360))\n",
    "    left_line = make_coordinates(image, left_fit_average)\n",
    "    \n",
    "    rigth_line = make_coordinates(image, right_fit_average)\n",
    "    return np.array([left_line, rigth_line])\n"
   ]
  },
  {
   "cell_type": "code",
   "execution_count": null,
   "metadata": {},
   "outputs": [],
   "source": [
    "\n",
    "ai_cam.set_window()\n",
    "while True:\n",
    "    frame = ai_cam.read()\n",
    "    canny_image = canny(frame)\n",
    "    cropped_image = region_of_interest(canny_image)\n",
    "    \n",
    "    lines = cv2.HoughLinesP(cropped_image, 1 , np.pi/180, 100, np.array([]), minLineLength=10, maxLineGap=1)\n",
    "    \n",
    "    if str(type(lines)) == \"<class 'NoneType'>\":\n",
    "        lines = [[[0, 0 ,0 ,0]]]\n",
    "    elif len(lines) < 2:\n",
    "        continue\n",
    "\n",
    "    # 선분이 2개 검출될때 실행 \n",
    "    if len(lines) >= 2 :\n",
    "        averaged_lines = average_slope_intercept(frame, lines)\n",
    "            \n",
    "        frame_lines = t_display_lines(frame, averaged_lines)\n",
    "\n",
    "        combo_image = cv2.addWeighted(frame, 0.8, frame_lines, 1, 1)\n",
    "\n",
    "        ai_cam.show(combo_image)"
   ]
  },
  {
   "cell_type": "markdown",
   "metadata": {},
   "source": [
    "### Find Vanishing\n",
    "##### 소실점 추출"
   ]
  },
  {
   "cell_type": "code",
   "execution_count": null,
   "metadata": {},
   "outputs": [],
   "source": [
    "# 중심 축과 검출된 선들의 중심축 좌표 출력 함수 \n",
    "def find_vanishing(image, lines):\n",
    "    \n",
    "    x11, y11, x12, y12 = lines[0]\n",
    "    cv2.line(image, (x11, y11), (x12, y12), (255, 255, 0), 10)\n",
    "    x21, y21, x22, y22 = lines[1]\n",
    "    cv2.line(image, (x21, y21), (x22, y22), (0, 255, 255), 3)\n",
    "    m1 = (y12 - y11) / (x12 - x11)\n",
    "    m2 = ((y22 - y21) / (x22 - x21)) -0.001\n",
    "    cx = int((x11 * m1 - y11 - x21 * m2 + y21) / (m1 - m2))\n",
    "    center = int(image.shape[1]/2)\n",
    "\n",
    "    \n",
    "    cv2.line(image, (cx, 0), (cx, image.shape[0]), (0, 0, 255), 3) \n",
    "    cv2.putText(image, str(cx), (cx+10, 100), cv2.FONT_HERSHEY_PLAIN, 2, (0, 0, 255), 2)\n",
    "    cv2.line(image, (center, 0), (center, image.shape[0]), (0, 255, 0), 3)\n",
    "    cv2.putText(image, str(center), (center+10, 100), cv2.FONT_HERSHEY_PLAIN, 2, (0, 255, 0), 2)\n",
    "\n",
    "    return image, cx, center\n"
   ]
  },
  {
   "cell_type": "code",
   "execution_count": null,
   "metadata": {},
   "outputs": [],
   "source": [
    "ai_cam.set_window()\n",
    "while True:\n",
    "    frame = ai_cam.read()\n",
    "    canny_image = canny(frame)\n",
    "    cropped_image = region_of_interest(canny_image)\n",
    "    \n",
    "    lines = cv2.HoughLinesP(cropped_image, 1 , np.pi/180, 100, np.array([]), minLineLength=10, maxLineGap=1)\n",
    "    \n",
    "    if str(type(lines)) == \"<class 'NoneType'>\":\n",
    "        lines = [[[0, 0 ,0 ,0]]]\n",
    "    elif len(lines) < 2:\n",
    "        continue\n",
    "\n",
    "    # 선분이 2개 검출될때 실행 \n",
    "    if len(lines) >= 2 :\n",
    "        averaged_lines = average_slope_intercept(frame, lines)\n",
    "        line_image = t_display_lines(frame, averaged_lines)\n",
    "        vanishing_line, vanishing, center = find_vanishing(line_image, averaged_lines)\n",
    "        combo_image = cv2.addWeighted(frame, 0.8, vanishing_line, 1, 1)\n",
    "        ai_cam.show(combo_image)"
   ]
  },
  {
   "cell_type": "markdown",
   "metadata": {},
   "source": [
    "### 모터 & 차량 제어"
   ]
  },
  {
   "cell_type": "code",
   "execution_count": null,
   "metadata": {},
   "outputs": [],
   "source": [
    "# MODI 모터 제어 함수 \n",
    "def forward(delay=10, speed=100):\n",
    "    motor.speed= 0, 0\n",
    "    time.sleep(0.001)\n",
    "    for _ in range(delay):\n",
    "        time.sleep(0.001)\n",
    "        motor.speed= speed, -speed\n",
    "        time.sleep(0.001)\n",
    "    motor.speed =0, 0\n",
    "\n",
    "def left(delay=2):\n",
    "    motor.speed= 0,0\n",
    "    time.sleep(0.001)\n",
    "    for _ in range(delay):\n",
    "        time.sleep(0.001)\n",
    "        motor.speed= 100, 100\n",
    "        time.sleep(0.001)\n",
    "    motor.speed =0, 0\n",
    "\n",
    "def right(delay=2):\n",
    "    motor.speed = 0, 0\n",
    "    time.sleep(0.001)\n",
    "    for _ in range(delay):\n",
    "        time.sleep(0.001)\n",
    "        motor.speed= -100, -100\n",
    "        time.sleep(0.001)\n",
    "    motor.speed = 0, 0\n",
    "\n",
    "# 차량 이동 함수 \n",
    "def find_way(vanishing, center):\n",
    "    diff = vanishing - center\n",
    "    if diff < -20:\n",
    "        left()\n",
    "    elif diff > 20:\n",
    "        right()\n",
    "    else:\n",
    "        forward()"
   ]
  },
  {
   "cell_type": "code",
   "execution_count": null,
   "metadata": {},
   "outputs": [],
   "source": [
    "ai_cam.set_window()\n",
    "while True:\n",
    "    frame = ai_cam.read()\n",
    "    canny_image = canny(frame)\n",
    "    cropped_image = region_of_interest(canny_image)\n",
    "    \n",
    "    lines = cv2.HoughLinesP(cropped_image, 1 , np.pi/180, 100, np.array([]), minLineLength=10, maxLineGap=1)\n",
    "    \n",
    "    if str(type(lines)) == \"<class 'NoneType'>\":\n",
    "        lines = [[[0, 0 ,0 ,0]]]\n",
    "    elif len(lines) < 2:\n",
    "        continue\n",
    "\n",
    "    # 선분이 2개 검출될때 실행 \n",
    "    if len(lines) >= 2 :\n",
    "        averaged_lines = average_slope_intercept(frame, lines)\n",
    "        line_image = t_display_lines(frame, averaged_lines)\n",
    "        vanishing_line, vanishing, center = find_vanishing(line_image, averaged_lines)\n",
    "        combo_image = cv2.addWeighted(frame, 0.8, vanishing_line, 1, 1)\n",
    "        ai_cam.show(combo_image)\n",
    "        find_way(vanishing, center)"
   ]
  },
  {
   "cell_type": "markdown",
   "metadata": {},
   "source": [
    "# 확인 문제"
   ]
  },
  {
   "cell_type": "markdown",
   "metadata": {},
   "source": [
    "### Open CV 이미지 처리\n",
    "\n",
    "#### 1. 직선을 1개만 추출하려면 어떻게 해야할까요?\n",
    "#### 2. canny를 적용하지 않고 나머지 코드를 실행하면 어떤 결과가 나올까요?\n",
    "#### 3. grayscale을 적용하지 않고 나머지 코드를 실행하면 어떤 결과가 나올까요?"
   ]
  }
 ],
 "metadata": {
  "kernelspec": {
   "display_name": "Python 3",
   "language": "python",
   "name": "python3"
  },
  "language_info": {
   "codemirror_mode": {
    "name": "ipython",
    "version": 3
   },
   "file_extension": ".py",
   "mimetype": "text/x-python",
   "name": "python",
   "nbconvert_exporter": "python",
   "pygments_lexer": "ipython3",
   "version": "3.7.3"
  }
 },
 "nbformat": 4,
 "nbformat_minor": 4
}
