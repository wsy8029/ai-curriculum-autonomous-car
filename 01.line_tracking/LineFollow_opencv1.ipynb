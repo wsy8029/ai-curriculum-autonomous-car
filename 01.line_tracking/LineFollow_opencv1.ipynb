{
 "cells": [
  {
   "cell_type": "markdown",
   "metadata": {},
   "source": [
    "<img src=\"./image/Title.png\">"
   ]
  },
  {
   "cell_type": "markdown",
   "metadata": {},
   "source": [
    "### 패키지 import 및 bundle 객체 선언"
   ]
  },
  {
   "cell_type": "code",
   "execution_count": null,
   "metadata": {
    "scrolled": true
   },
   "outputs": [],
   "source": [
    "import cv2\n",
    "import numpy as np\n",
    "import modi\n",
    "import time"
   ]
  },
  {
   "cell_type": "code",
   "execution_count": null,
   "metadata": {},
   "outputs": [],
   "source": [
    "bundle = modi.MODI(ai_mode=True)\n",
    "ai_cam = bundle.ai_cameras[0]\n",
    "motor = bundle.motors[0]\n",
    "print('bundle finish')"
   ]
  },
  {
   "cell_type": "markdown",
   "metadata": {},
   "source": [
    "### 선 이미지 출력 함수"
   ]
  },
  {
   "cell_type": "code",
   "execution_count": null,
   "metadata": {},
   "outputs": [],
   "source": [
    "def t_display_lines(image, lines):\n",
    "    line_image = np.zeros_like(image)\n",
    "    if lines is not None:\n",
    "        for line in lines:\n",
    "            x1, y1, x2, y2 = line.reshape(4)\n",
    "            cv2.line(line_image, (x1, y1), (x2, y2), (255, 0, 0), 10)\n",
    "    return line_image"
   ]
  },
  {
   "cell_type": "markdown",
   "metadata": {},
   "source": [
    "### Canny function\n",
    "##### 윤곽선 추출"
   ]
  },
  {
   "cell_type": "code",
   "execution_count": null,
   "metadata": {},
   "outputs": [],
   "source": [
    "# Canny 이미지 처리함수\n",
    "def canny(image):\n",
    "    gray = cv2.cvtColor(image, cv2.COLOR_RGB2GRAY)\n",
    "    blur = cv2.GaussianBlur(gray, (5, 5), 0)\n",
    "    canny = cv2.Canny(blur, 50, 150)\n",
    "    return canny"
   ]
  },
  {
   "cell_type": "code",
   "execution_count": null,
   "metadata": {},
   "outputs": [],
   "source": [
    "ai_cam.set_window()\n",
    "ai_cam.set_frame_height(320)\n",
    "ai_cam.set_frame_weight(240)\n",
    "while True:\n",
    "    frame = ai_cam.read()\n",
    "    frame = cv2.flip(frame, 1)\n",
    "    canny_image = canny(frame)\n",
    "    ai_cam.show(canny_image)"
   ]
  },
  {
   "cell_type": "markdown",
   "metadata": {},
   "source": [
    "### ROI (Region Of Interest)\n",
    "##### 영역 설정"
   ]
  },
  {
   "cell_type": "code",
   "execution_count": null,
   "metadata": {},
   "outputs": [],
   "source": [
    "def region_of_interest(image):\n",
    "    \"\"\"\n",
    "    Determine and cut the region of interest in the input image.\n",
    "        Parameters:\n",
    "            image: An np.array compatible with plt.imshow.\n",
    "    \"\"\"\n",
    "    mask = np.zeros_like(image)   \n",
    "    #Defining a 3 channel or 1 channel color to fill the mask with depending on the input image\n",
    "    if len(image.shape) > 2:\n",
    "        channel_count = image.shape[2]\n",
    "        ignore_mask_color = (255,) * channel_count\n",
    "    else:\n",
    "        ignore_mask_color = 255\n",
    "    #We could have used fixed numbers as the vertices of the polygon,\n",
    "    #but they will not be applicable to images with different dimesnions.\n",
    "    rows, cols = image.shape[:2]\n",
    "\n",
    "    bottom_left  = [cols * 0, rows * 1]\n",
    "    top_left     = [cols * 0, rows * 0.05]\n",
    "    bottom_right = [cols * 1, rows * 1]\n",
    "    top_right    = [cols * 1, rows * 0.05]\n",
    "    \n",
    "    bottom_left  = [cols * 0, rows * 0.05]\n",
    "    top_left     = [cols * 0, rows * 1]\n",
    "    bottom_right = [cols * 1, rows * 0.05]\n",
    "    top_right    = [cols * 1, rows * 1]\n",
    "    \n",
    "    vertices = np.array([[bottom_left, top_left, top_right, bottom_right]], dtype=np.int32)\n",
    "    cv2.fillPoly(mask, vertices, ignore_mask_color)\n",
    "    masked_image = cv2.bitwise_and(image, mask)\n",
    "    return masked_image"
   ]
  },
  {
   "cell_type": "code",
   "execution_count": null,
   "metadata": {},
   "outputs": [],
   "source": [
    "ai_cam.set_window()\n",
    "while True:\n",
    "    frame = ai_cam.read()\n",
    "    frame = cv2.flip(frame, 1)\n",
    "    canny_image = canny(frame)\n",
    "    cropped_image = region_of_interest(canny_image)\n",
    "    ai_cam.show(cropped_image)"
   ]
  },
  {
   "cell_type": "markdown",
   "metadata": {},
   "source": [
    "### Hough Lines\n",
    "##### 직선 추출"
   ]
  },
  {
   "cell_type": "code",
   "execution_count": null,
   "metadata": {},
   "outputs": [],
   "source": [
    "def hough_transform(image):\n",
    "    \"\"\"\n",
    "    Determine and cut the region of interest in the input image.\n",
    "        Parameters:\n",
    "            image: The output of a Canny transform.\n",
    "    \"\"\"\n",
    "#     rho = 1              #Distance resolution of the accumulator in pixels.\n",
    "#     theta = np.pi/180    #Angle resolution of the accumulator in radians.\n",
    "#     threshold = 20       #Only lines that are greater than threshold will be returned.\n",
    "#     minLineLength = 20   #Line segments shorter than that are rejected.\n",
    "#     maxLineGap = 300     #Maximum allowed gap between points on the same line to link them\n",
    "    \n",
    "    rho = 7              #Distance resolution of the accumulator in pixels.\n",
    "    theta = np.pi/180    #Angle resolution of the accumulator in radians.\n",
    "    threshold = 41       #Only lines that are greater than threshold will be returned.\n",
    "    minLineLength = 25   #Line segments shorter than that are rejected.\n",
    "    maxLineGap = 20     #Maximum allowed gap between points on the same line to link them\n",
    "    \n",
    "    \n",
    "    return cv2.HoughLinesP(image, rho = rho, theta = theta, threshold = threshold,\n",
    "                           minLineLength = minLineLength, maxLineGap = maxLineGap)\n",
    "\n",
    "ai_cam.set_window()\n",
    "while True:\n",
    "    frame = ai_cam.read()\n",
    "    frame = cv2.flip(frame, 1)\n",
    "    canny_image = canny(frame)\n",
    "    cropped_image = region_of_interest(canny_image)\n",
    "    \n",
    "    lines = hough_transform(cropped_image)\n",
    "    frame_lines = t_display_lines(frame, lines)\n",
    "    \n",
    "    combo_image = cv2.addWeighted(frame, 0.8, frame_lines, 1, 1)\n",
    "    \n",
    "    ai_cam.show(combo_image)"
   ]
  },
  {
   "cell_type": "markdown",
   "metadata": {},
   "source": [
    "### Average Slope\n",
    "##### 기울기 처리"
   ]
  },
  {
   "cell_type": "code",
   "execution_count": null,
   "metadata": {},
   "outputs": [],
   "source": [
    "def average_slope_intercept(lines):\n",
    "    \"\"\"\n",
    "    Find the slope and intercept of the left and right lanes of each image.\n",
    "        Parameters:\n",
    "            lines: The output lines from Hough Transform.\n",
    "    \"\"\"\n",
    "    left_lines    = [] #(slope, intercept)\n",
    "    left_weights  = [] #(length,)\n",
    "    right_lines   = [] #(slope, intercept)\n",
    "    right_weights = [] #(length,)\n",
    "    \n",
    "    for line in lines:\n",
    "        for x1, y1, x2, y2 in line:\n",
    "            if x1 == x2:\n",
    "                continue\n",
    "            slope = (y2 - y1) / (x2 - x1)\n",
    "            intercept = y1 - (slope * x1)\n",
    "            length = np.sqrt(((y2 - y1) ** 2) + ((x2 - x1) ** 2))\n",
    "            if slope < 0:\n",
    "                left_lines.append((slope, intercept))\n",
    "                left_weights.append((length))\n",
    "            else:\n",
    "                right_lines.append((slope, intercept))\n",
    "                right_weights.append((length))\n",
    "    left_lane  = np.dot(left_weights,  left_lines) / np.sum(left_weights)  if len(left_weights) > 0 else None\n",
    "    right_lane = np.dot(right_weights, right_lines) / np.sum(right_weights) if len(right_weights) > 0 else None\n",
    "    return left_lane, right_lane\n",
    "\n",
    "def pixel_points(y1, y2, line):\n",
    "    \"\"\"\n",
    "    Converts the slope and intercept of each line into pixel points.\n",
    "        Parameters:\n",
    "            y1: y-value of the line's starting point.\n",
    "            y2: y-value of the line's end point.\n",
    "            line: The slope and intercept of the line.\n",
    "    \"\"\"\n",
    "    if line is None:\n",
    "        return None\n",
    "    slope, intercept = line\n",
    "    if 0 <= slope < 0.01:\n",
    "        slope = 0.01\n",
    "    x1 = int((y1 - intercept)/slope)\n",
    "    x2 = int((y2 - intercept)/slope)\n",
    "    y1 = int(y1)\n",
    "    y2 = int(y2)\n",
    "    return ((x1, y1), (x2, y2))\n",
    "\n",
    "def lane_lines(image, lines):\n",
    "    \"\"\"\n",
    "    Create full lenght lines from pixel points.\n",
    "        Parameters:\n",
    "            image: The input test image.\n",
    "            lines: The output lines from Hough Transform.\n",
    "    \"\"\"\n",
    "    left_lane, right_lane = average_slope_intercept(lines)\n",
    "    y1 = image.shape[0]\n",
    "    y2 = y1 * 0.2\n",
    "    left_line  = pixel_points(y1, y2, left_lane)\n",
    "    right_line = pixel_points(y1, y2, right_lane)\n",
    "    return left_line, right_line\n",
    "    \n",
    "def draw_lane_lines(image, lines, color=[255, 0, 0], thickness=12):\n",
    "    \"\"\"\n",
    "    Draw lines onto the input image.\n",
    "        Parameters:\n",
    "            image: The input test image.\n",
    "            lines: The output lines from Hough Transform.\n",
    "            color (Default = red): Line color.\n",
    "            thickness (Default = 12): Line thickness. \n",
    "    \"\"\"\n",
    "    line_image = np.zeros_like(image)\n",
    "    for line in lines:\n",
    "        if line is not None:\n",
    "            cv2.line(line_image, *line,  color, thickness)\n",
    "    return cv2.addWeighted(image, 1.0, line_image, 1.0, 0.0)"
   ]
  },
  {
   "cell_type": "code",
   "execution_count": null,
   "metadata": {},
   "outputs": [],
   "source": [
    "ai_cam.set_window()\n",
    "while True:\n",
    "    frame = ai_cam.read()\n",
    "    frame = cv2.flip(frame, 1)\n",
    "    canny_image = canny(frame)\n",
    "    cropped_image = region_of_interest(canny_image)\n",
    "    \n",
    "    lines = hough_transform(cropped_image)\n",
    "    \n",
    "    combo_image = draw_lane_lines(frame, lane_lines(frame, lines))\n",
    "    \n",
    "    ai_cam.show(combo_image)\n",
    "    "
   ]
  },
  {
   "cell_type": "markdown",
   "metadata": {},
   "source": [
    "### Find Vanishing\n",
    "##### 소실점 추출"
   ]
  },
  {
   "cell_type": "code",
   "execution_count": null,
   "metadata": {},
   "outputs": [],
   "source": [
    "# 중심 축과 검출된 선들의 중심축 좌표 출력 함수 \n",
    "def find_vanishing(image, lines):\n",
    "    if lines.shape != (2,4):\n",
    "        lines = [[75, 240,  78,  48], [40, 240,  25,  48]]\n",
    "    x11, y11, x12, y12 = lines[0]\n",
    "    cv2.line(image, (x11, y11), (x12, y12), (255, 255, 0), 10)\n",
    "    x21, y21, x22, y22 = lines[1]\n",
    "    cv2.line(image, (x21, y21), (x22, y22), (0, 255, 255), 3)\n",
    "    m1 = (y12 - y11) / (x12 - x11)\n",
    "    m2 = ((y22 - y21) / (x22 - x21)) -0.001\n",
    "    cx = int((x11 * m1 - y11 - x21 * m2 + y21) / (m1 - m2))\n",
    "    center = int(image.shape[1]/2)\n",
    "\n",
    "    \n",
    "    cv2.line(image, (cx, 0), (cx, image.shape[0]), (0, 0, 255), 3) \n",
    "    cv2.putText(image, str(cx), (cx+10, 100), cv2.FONT_HERSHEY_PLAIN, 2, (0, 0, 255), 2)\n",
    "    cv2.line(image, (center, 0), (center, image.shape[0]), (0, 255, 0), 3)\n",
    "    cv2.putText(image, str(center), (center+10, 100), cv2.FONT_HERSHEY_PLAIN, 2, (0, 255, 0), 2)\n",
    "\n",
    "    return image, cx, center\n"
   ]
  },
  {
   "cell_type": "code",
   "execution_count": null,
   "metadata": {},
   "outputs": [],
   "source": [
    "ai_cam.set_window()\n",
    "while True:\n",
    "    frame = ai_cam.read()\n",
    "    frame = cv2.flip(frame, 1)\n",
    "    canny_image = canny(frame)\n",
    "    cropped_image = region_of_interest(canny_image)\n",
    "    \n",
    "    lines = hough_transform(cropped_image)\n",
    "    \n",
    "    lanes = lane_lines(frame, lines)\n",
    "    lanes = np.asarray(lanes).reshape(2,-1)\n",
    "    \n",
    "    combo_image = draw_lane_lines(frame, lane_lines(frame, lines))\n",
    "    \n",
    "    vanishing_line, vanishing, center = find_vanishing(combo_image, lanes)\n",
    "    final_image = cv2.addWeighted(frame, 0.8, vanishing_line, 1, 1)\n",
    "    \n",
    "    ai_cam.show(final_image)"
   ]
  },
  {
   "cell_type": "markdown",
   "metadata": {},
   "source": [
    "### 모터 & 차량 제어"
   ]
  },
  {
   "cell_type": "code",
   "execution_count": null,
   "metadata": {},
   "outputs": [],
   "source": [
    "# # MODI 모터 제어 함수 \n",
    "# def forward(delay=1, speed=60):\n",
    "#     motor.speed= 0, 0\n",
    "# #     time.sleep(0.001)\n",
    "#     for _ in range(delay):\n",
    "# #         time.sleep(0.001)\n",
    "#         motor.speed= speed, -speed\n",
    "#         time.sleep(0.001)\n",
    "#     motor.speed =0, 0\n",
    "\n",
    "# def left(delay=1):\n",
    "#     motor.speed= 0,0\n",
    "# #     time.sleep(0.001)\n",
    "#     for _ in range(delay):\n",
    "# #         time.sleep(0.001)\n",
    "#         motor.speed= 60, 60\n",
    "#         time.sleep(0.001)\n",
    "#     motor.speed =0, 0\n",
    "\n",
    "# def right(delay=1):\n",
    "#     motor.speed = 0, 0\n",
    "# #     time.sleep(0.001)\n",
    "#     for _ in range(delay):\n",
    "# #         time.sleep(0.001)\n",
    "#         motor.speed= -60, -60\n",
    "#         time.sleep(0.001)\n",
    "#     motor.speed = 0, 0\n",
    "\n",
    "    \n",
    "# MODI 모터 제어 함수 \n",
    "def forward():\n",
    "    motor.speed= 50, -50\n",
    "#     time.sleep(0.001)\n",
    "#     motor.speed= 0,0\n",
    "\n",
    "def left():\n",
    "    motor.speed= 35, -25\n",
    "#     time.sleep(0.001)\n",
    "#     motor.speed= 0,0\n",
    "\n",
    "def right():\n",
    "    motor.speed = 25, -35\n",
    "#     time.sleep(0.001)\n",
    "#     motor.speed= 0,0\n",
    "    \n",
    "    \n",
    "# 차량 이동 함수 \n",
    "def find_way(vanishing, center):\n",
    "    diff = vanishing - center\n",
    "    if diff < -15:\n",
    "        left()\n",
    "        if diff < -40:\n",
    "            motor.speed= 50, -25\n",
    "            time.sleep(0.01)\n",
    "            if diff < -50:\n",
    "                motor.speed= 55, -25\n",
    "                time.sleep(0.01)\n",
    "                if diff < -60:\n",
    "                    motor.speed= 60, -25\n",
    "                    time.sleep(0.01)\n",
    "                    if diff < -120:\n",
    "                        motor.speed= 80, -25\n",
    "                        time.sleep(0.1)\n",
    "    elif diff > 15:\n",
    "        right()\n",
    "        if diff > 40:\n",
    "            motor.speed= 25, -50\n",
    "            time.sleep(0.01)\n",
    "            if diff > 50:\n",
    "                motor.speed=25, -55\n",
    "                time.sleep(0.01)\n",
    "                if diff > 60:\n",
    "                    motor.speed= 25, -60\n",
    "                    time.sleep(0.01)\n",
    "                    if diff > 120:\n",
    "                        motor.speed= 25, -80\n",
    "                        time.sleep(0.1)\n",
    "    else:\n",
    "        forward()"
   ]
  },
  {
   "cell_type": "code",
   "execution_count": null,
   "metadata": {},
   "outputs": [],
   "source": [
    "ai_cam.set_window()\n",
    "while True:\n",
    "    frame = ai_cam.read()\n",
    "    frame = cv2.flip(frame, 1)\n",
    "    canny_image = canny(frame)\n",
    "    cropped_image = region_of_interest(canny_image)\n",
    "    \n",
    "#     lines = cv2.HoughLinesP(cropped_image, 0.8 , np.pi/180, 15, np.array([]), minLineLength=40, maxLineGap=200)\n",
    "#     lines = cv2.HoughLinesP(cropped_image, 7 , np.pi/180, 41, np.array([]), minLineLength=25, maxLineGap=20)\n",
    "    lines = hough_transform(cropped_image)\n",
    "    \n",
    "    lanes = lane_lines(frame, lines)\n",
    "    lanes = np.asarray(lanes).reshape(2,-1)\n",
    "    \n",
    "    combo_image = draw_lane_lines(frame, lane_lines(frame, lines))\n",
    "    \n",
    "    vanishing_line, vanishing, center = find_vanishing(combo_image, lanes)\n",
    "    final_image = cv2.addWeighted(frame, 0.8, vanishing_line, 1, 1)\n",
    "    \n",
    "    ai_cam.show(final_image)\n",
    "    find_way(vanishing, center)\n",
    "        "
   ]
  },
  {
   "cell_type": "markdown",
   "metadata": {},
   "source": [
    "# 확인 문제"
   ]
  },
  {
   "cell_type": "markdown",
   "metadata": {},
   "source": [
    "### Open CV 이미지 처리\n",
    "\n",
    "#### 1. 직선을 1개만 추출하려면 어떻게 해야할까요?\n",
    "#### 2. canny를 적용하지 않고 나머지 코드를 실행하면 어떤 결과가 나올까요?\n",
    "#### 3. grayscale을 적용하지 않고 나머지 코드를 실행하면 어떤 결과가 나올까요?"
   ]
  },
  {
   "cell_type": "code",
   "execution_count": null,
   "metadata": {},
   "outputs": [],
   "source": []
  }
 ],
 "metadata": {
  "kernelspec": {
   "display_name": "Python 3",
   "language": "python",
   "name": "python3"
  },
  "language_info": {
   "codemirror_mode": {
    "name": "ipython",
    "version": 3
   },
   "file_extension": ".py",
   "mimetype": "text/x-python",
   "name": "python",
   "nbconvert_exporter": "python",
   "pygments_lexer": "ipython3",
   "version": "3.7.3"
  }
 },
 "nbformat": 4,
 "nbformat_minor": 4
}
